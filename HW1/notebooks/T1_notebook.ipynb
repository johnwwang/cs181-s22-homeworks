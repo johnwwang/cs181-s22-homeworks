{
 "cells": [
  {
   "cell_type": "code",
   "execution_count": 4,
   "id": "1cb14887",
   "metadata": {},
   "outputs": [
    {
     "name": "stdout",
     "output_type": "stream",
     "text": [
      "Loss for tau = 0.01: 8.75\n",
      "Loss for tau = 2: 3.30501649456579\n",
      "Loss for tau = 100: 120.35919342230957\n"
     ]
    }
   ],
   "source": [
    "import numpy as np\n",
    "import matplotlib.pyplot as plt\n",
    "import random\n",
    "from T1_P1 import compute_loss\n"
   ]
  },
  {
   "cell_type": "code",
   "execution_count": 5,
   "id": "e5f1e579",
   "metadata": {},
   "outputs": [],
   "source": [
    "data = np.array(\n",
    "        [(0., 0.),\n",
    "        (1., 0.5),\n",
    "        (2., 1.),\n",
    "        (3., 2.),\n",
    "        (4., 1.),\n",
    "        (6., 1.5),\n",
    "        (8., 0.5)])\n",
    "\n",
    "x_coord = data[:, 0]\n",
    "y_coord = data[:, 1]\n",
    "\n",
    "n = len(data)\n",
    "\n",
    "tau1 = 0.01\n",
    "tau2 = 2\n",
    "tau3 = 100\n",
    "\n",
    "tau_arr = np.array([tau1, tau2, tau3])\n",
    "f_star_arr = []"
   ]
  },
  {
   "cell_type": "code",
   "execution_count": 6,
   "id": "c3772925",
   "metadata": {},
   "outputs": [],
   "source": [
    "def f(x_star, tau):\n",
    "    def K(x_i, x_j):\n",
    "        return np.exp(-np.power((x_i-x_j), 2)/tau)\n",
    "    \n",
    "    y = 0\n",
    "    \n",
    "    for i in range(n):\n",
    "        x_i, y_i = data[i]\n",
    "        y += K(x_i, x_star)*y_i\n",
    "    \n",
    "    return y"
   ]
  },
  {
   "cell_type": "code",
   "execution_count": 7,
   "id": "d160f00b",
   "metadata": {},
   "outputs": [],
   "source": [
    "for tau in tau_arr:\n",
    "    f_star_arr.append(np.vectorize(lambda x : f(x, tau))(x_coord))"
   ]
  },
  {
   "cell_type": "code",
   "execution_count": 8,
   "id": "60dd56e6",
   "metadata": {},
   "outputs": [
    {
     "data": {
      "text/plain": [
       "<Figure size 432x288 with 0 Axes>"
      ]
     },
     "execution_count": 8,
     "metadata": {},
     "output_type": "execute_result"
    },
    {
     "data": {
      "text/plain": [
       "<Figure size 432x288 with 0 Axes>"
      ]
     },
     "metadata": {},
     "output_type": "display_data"
    }
   ],
   "source": [
    "plt.figure()"
   ]
  },
  {
   "cell_type": "code",
   "execution_count": 10,
   "id": "7598b5e8",
   "metadata": {},
   "outputs": [
    {
     "data": {
      "text/plain": [
       "<matplotlib.legend.Legend at 0x270e73aa8b0>"
      ]
     },
     "execution_count": 10,
     "metadata": {},
     "output_type": "execute_result"
    },
    {
     "data": {
      "image/png": "[encoded data removed]",
      "text/plain": [
       "<Figure size 432x288 with 1 Axes>"
      ]
     },
     "metadata": {
      "needs_background": "light"
     },
     "output_type": "display_data"
    }
   ],
   "source": [
    "x = np.linspace(0, 12, 200)\n",
    "for tau in tau_arr:\n",
    "    c = (random.random(), random.random(), random.random())\n",
    "    plt.plot(x, f(x, tau), color=c, label=str(tau))\n",
    "    plt.scatter(x_coord, y_coord, color = \"red\")\n",
    "plt.legend(loc='upper right')"
   ]
  },
  {
   "cell_type": "code",
   "execution_count": null,
   "id": "00eb960d",
   "metadata": {},
   "outputs": [],
   "source": []
  }
 ],
 "metadata": {
  "kernelspec": {
   "display_name": "Python 3",
   "language": "python",
   "name": "python3"
  },
  "language_info": {
   "codemirror_mode": {
    "name": "ipython",
    "version": 3
   },
   "file_extension": ".py",
   "mimetype": "text/x-python",
   "name": "python",
   "nbconvert_exporter": "python",
   "pygments_lexer": "ipython3",
   "version": "3.8.8"
  }
 },
 "nbformat": 4,
 "nbformat_minor": 5
}
