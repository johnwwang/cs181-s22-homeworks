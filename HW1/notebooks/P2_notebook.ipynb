{
 "cells": [
  {
   "cell_type": "code",
   "execution_count": 13,
   "id": "9e65052a",
   "metadata": {},
   "outputs": [],
   "source": [
    "import math\n",
    "import matplotlib.cm as cm\n",
    "\n",
    "from math import exp\n",
    "import numpy as np\n",
    "import pandas as pd\n",
    "import matplotlib.pyplot as plt\n",
    "import matplotlib.colors as c"
   ]
  },
  {
   "cell_type": "code",
   "execution_count": 14,
   "id": "2bf84f6b",
   "metadata": {},
   "outputs": [],
   "source": [
    "# set up data\n",
    "data = [(0., 0.),\n",
    "        (1., 0.5),\n",
    "        (2., 1),\n",
    "        (3., 2),\n",
    "        (4., 1),\n",
    "        (6., 1.5),\n",
    "        (8., 0.5)]\n",
    "\n",
    "x_train = np.array([d[0] for d in data])\n",
    "y_train = np.array([d[1] for d in data])\n",
    "\n",
    "x_test = np.arange(0, 12, .1)"
   ]
  },
  {
   "cell_type": "code",
   "execution_count": 15,
   "id": "23e1b84f",
   "metadata": {},
   "outputs": [
    {
     "name": "stdout",
     "output_type": "stream",
     "text": [
      "y is:\n",
      "[0.  0.5 1.  2.  1.  1.5 0.5]\n"
     ]
    }
   ],
   "source": [
    "\n",
    "print(\"y is:\")\n",
    "print(y_train)"
   ]
  },
  {
   "cell_type": "code",
   "execution_count": 117,
   "id": "158ac7fb",
   "metadata": {},
   "outputs": [],
   "source": [
    "def predict_knn(k=1, tau=1):\n",
    "    \"\"\"Returns predictions for the values in x_test, using KNN predictor with the specified k.\"\"\"\n",
    "    #heap to store distances\n",
    "    \n",
    "    def predict_x(x_star):\n",
    "        \n",
    "        def K(x_i, x_j):\n",
    "            return np.exp(-np.power((x_i-x_j), 2)/tau)\n",
    "        \n",
    "        d = []\n",
    "        \n",
    "        for x, y in zip(x_train, y_train):\n",
    "#             print(x, y)\n",
    "            d.append((K(x_star, x), y))\n",
    "            \n",
    "        d.sort(reverse= True)\n",
    "#         print(d)\n",
    "        return sum(x[1] for x in d[:k])/k\n",
    "    \n",
    "    y = []\n",
    "    for x in x_test:\n",
    "        y.append(predict_x(x))\n",
    "#     print(y)\n",
    "    return np.vectorize(predict_x)(x_test)"
   ]
  },
  {
   "cell_type": "code",
   "execution_count": 118,
   "id": "c11173cc",
   "metadata": {},
   "outputs": [
    {
     "data": {
      "text/plain": [
       "array([ 0. ,  0.1,  0.2,  0.3,  0.4,  0.5,  0.6,  0.7,  0.8,  0.9,  1. ,\n",
       "        1.1,  1.2,  1.3,  1.4,  1.5,  1.6,  1.7,  1.8,  1.9,  2. ,  2.1,\n",
       "        2.2,  2.3,  2.4,  2.5,  2.6,  2.7,  2.8,  2.9,  3. ,  3.1,  3.2,\n",
       "        3.3,  3.4,  3.5,  3.6,  3.7,  3.8,  3.9,  4. ,  4.1,  4.2,  4.3,\n",
       "        4.4,  4.5,  4.6,  4.7,  4.8,  4.9,  5. ,  5.1,  5.2,  5.3,  5.4,\n",
       "        5.5,  5.6,  5.7,  5.8,  5.9,  6. ,  6.1,  6.2,  6.3,  6.4,  6.5,\n",
       "        6.6,  6.7,  6.8,  6.9,  7. ,  7.1,  7.2,  7.3,  7.4,  7.5,  7.6,\n",
       "        7.7,  7.8,  7.9,  8. ,  8.1,  8.2,  8.3,  8.4,  8.5,  8.6,  8.7,\n",
       "        8.8,  8.9,  9. ,  9.1,  9.2,  9.3,  9.4,  9.5,  9.6,  9.7,  9.8,\n",
       "        9.9, 10. , 10.1, 10.2, 10.3, 10.4, 10.5, 10.6, 10.7, 10.8, 10.9,\n",
       "       11. , 11.1, 11.2, 11.3, 11.4, 11.5, 11.6, 11.7, 11.8, 11.9])"
      ]
     },
     "execution_count": 118,
     "metadata": {},
     "output_type": "execute_result"
    }
   ],
   "source": [
    "x_test"
   ]
  },
  {
   "cell_type": "code",
   "execution_count": 119,
   "id": "5129c131",
   "metadata": {},
   "outputs": [
    {
     "data": {
      "text/plain": [
       "array([0.875, 0.875, 0.875, 0.875, 0.875, 0.875, 0.875, 0.875, 0.875,\n",
       "       0.875, 0.875, 0.875, 0.875, 0.875, 0.875, 0.875, 0.875, 0.875,\n",
       "       0.875, 0.875, 1.125, 1.125, 1.125, 1.125, 1.125, 1.125, 1.125,\n",
       "       1.125, 1.125, 1.125, 1.125, 1.125, 1.125, 1.125, 1.125, 1.375,\n",
       "       1.375, 1.375, 1.375, 1.375, 1.375, 1.375, 1.375, 1.375, 1.375,\n",
       "       1.375, 1.375, 1.375, 1.375, 1.375, 1.375, 1.25 , 1.25 , 1.25 ,\n",
       "       1.25 , 1.25 , 1.25 , 1.25 , 1.25 , 1.25 , 1.25 , 1.25 , 1.25 ,\n",
       "       1.25 , 1.25 , 1.25 , 1.25 , 1.25 , 1.25 , 1.25 , 1.25 , 1.25 ,\n",
       "       1.25 , 1.25 , 1.25 , 1.25 , 1.25 , 1.25 , 1.25 , 1.25 , 1.25 ,\n",
       "       1.25 , 1.25 , 1.25 , 1.25 , 1.25 , 1.25 , 1.25 , 1.25 , 1.25 ,\n",
       "       1.25 , 1.25 , 1.25 , 1.25 , 1.25 , 1.25 , 1.25 , 1.25 , 1.25 ,\n",
       "       1.25 , 1.25 , 1.25 , 1.25 , 1.25 , 1.25 , 1.25 , 1.25 , 1.25 ,\n",
       "       1.25 , 1.25 , 1.25 , 1.25 , 1.25 , 1.25 , 1.25 , 1.25 , 1.25 ,\n",
       "       1.25 , 1.25 , 1.25 ])"
      ]
     },
     "execution_count": 119,
     "metadata": {},
     "output_type": "execute_result"
    }
   ],
   "source": [
    "predict_knn(k = 4)"
   ]
  },
  {
   "cell_type": "code",
   "execution_count": 120,
   "id": "1e35d83c",
   "metadata": {},
   "outputs": [],
   "source": [
    "\n",
    "def plot_knn_preds(k):\n",
    "    plt.xlim([0, 12])\n",
    "    plt.ylim([0,3])\n",
    "    \n",
    "    y_test = predict_knn(k=k)\n",
    "    \n",
    "    plt.scatter(x_train, y_train, label = \"training data\", color = 'black')\n",
    "    plt.plot(x_test, y_test, label = \"predictions using k = \" + str(k))\n",
    "\n",
    "    plt.legend()\n",
    "    plt.title(\"KNN Predictions with k = \" + str(k))\n",
    "    plt.savefig('k' + str(k) + '.png')\n",
    "    plt.show()\n"
   ]
  },
  {
   "cell_type": "code",
   "execution_count": 121,
   "id": "49f06fcc",
   "metadata": {},
   "outputs": [
    {
     "data": {
      "image/png": "[encoded data removed]",
      "text/plain": [
       "<Figure size 432x288 with 1 Axes>"
      ]
     },
     "metadata": {
      "needs_background": "light"
     },
     "output_type": "display_data"
    },
    {
     "data": {
      "image/png": "[encoded data removed]",
      "text/plain": [
       "<Figure size 432x288 with 1 Axes>"
      ]
     },
     "metadata": {
      "needs_background": "light"
     },
     "output_type": "display_data"
    },
    {
     "data": {
      "image/png": "[encoded data removed]",
      "text/plain": [
       "<Figure size 432x288 with 1 Axes>"
      ]
     },
     "metadata": {
      "needs_background": "light"
     },
     "output_type": "display_data"
    }
   ],
   "source": [
    "for k in (1, 3, len(x_train)-1):\n",
    "    plot_knn_preds(k)"
   ]
  },
  {
   "cell_type": "code",
   "execution_count": null,
   "id": "c4c8ea16",
   "metadata": {},
   "outputs": [],
   "source": []
  }
 ],
 "metadata": {
  "kernelspec": {
   "display_name": "Python 3",
   "language": "python",
   "name": "python3"
  },
  "language_info": {
   "codemirror_mode": {
    "name": "ipython",
    "version": 3
   },
   "file_extension": ".py",
   "mimetype": "text/x-python",
   "name": "python",
   "nbconvert_exporter": "python",
   "pygments_lexer": "ipython3",
   "version": "3.8.8"
  }
 },
 "nbformat": 4,
 "nbformat_minor": 5
}
